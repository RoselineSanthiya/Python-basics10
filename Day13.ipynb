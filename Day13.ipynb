{
  "nbformat": 4,
  "nbformat_minor": 0,
  "metadata": {
    "colab": {
      "provenance": []
    },
    "kernelspec": {
      "name": "python3",
      "display_name": "Python 3"
    },
    "language_info": {
      "name": "python"
    }
  },
  "cells": [
    {
      "cell_type": "code",
      "execution_count": null,
      "metadata": {
        "colab": {
          "base_uri": "https://localhost:8080/"
        },
        "id": "Y_Z-esQS5kV7",
        "outputId": "f950cb16-9c73-4d8a-cd45-891525c36e23"
      },
      "outputs": [
        {
          "output_type": "stream",
          "name": "stdout",
          "text": [
            "True\n",
            "False\n",
            "False\n"
          ]
        }
      ],
      "source": [
        "a,b=5,10\n",
        "print (a<b)\n",
        "print (b==a)\n",
        "print (a<b|b==a)"
      ]
    },
    {
      "cell_type": "code",
      "source": [
        "a,b=5,10\n",
        "print (a<b|b==a)\n",
        "print (a<b)"
      ],
      "metadata": {
        "colab": {
          "base_uri": "https://localhost:8080/"
        },
        "id": "m8-OSyioBaqY",
        "outputId": "74dab74c-5190-4252-9e16-246317fde544"
      },
      "execution_count": null,
      "outputs": [
        {
          "output_type": "stream",
          "name": "stdout",
          "text": [
            "False\n",
            "True\n"
          ]
        }
      ]
    },
    {
      "cell_type": "code",
      "source": [
        "creditscore=int(input(\"enter credit score\"))\n",
        "if(creditscore<=1000):\n",
        "  if(creditscore>800):\n",
        "     print (\"more benefits for housing loan\")\n",
        "  elif(creditscore>700&799<creditscore):\n",
        "     print(\"Better rates on car insurance\")\n",
        "  elif(creditscore>600&699<creditscore):\n",
        "     print (\"approval for higher credit limit\")\n",
        "  elif(creditscore>500&599<creditscore):\n",
        "     print (\"more benefits for utility services\")\n",
        "  elif(creditscore>400&499<creditscore):\n",
        "     print (\"options for better credit mix\")\n",
        "else:\n",
        "   print (\"not valid\")"
      ],
      "metadata": {
        "colab": {
          "base_uri": "https://localhost:8080/"
        },
        "id": "HM8wxGOHRUsd",
        "outputId": "bcd82351-ec8c-4e32-a814-ce01097282da"
      },
      "execution_count": null,
      "outputs": [
        {
          "output_type": "stream",
          "name": "stdout",
          "text": [
            "enter credit score1099\n",
            "not valid\n"
          ]
        }
      ]
    },
    {
      "cell_type": "code",
      "source": [
        "x=0\n",
        "while(x<5):\n",
        "  print (x)\n",
        "  x+=1"
      ],
      "metadata": {
        "colab": {
          "base_uri": "https://localhost:8080/"
        },
        "id": "kt08BAXucaN-",
        "outputId": "f1df7e20-67fb-444d-ad91-d500862e7414"
      },
      "execution_count": null,
      "outputs": [
        {
          "output_type": "stream",
          "name": "stdout",
          "text": [
            "0\n",
            "1\n",
            "2\n",
            "3\n",
            "4\n"
          ]
        }
      ]
    },
    {
      "cell_type": "code",
      "source": [
        "i=1\n",
        "while i<6:\n",
        "  print (i)\n",
        "  if(i==3):\n",
        "    break\n",
        "  i+=1"
      ],
      "metadata": {
        "colab": {
          "base_uri": "https://localhost:8080/"
        },
        "id": "jcv5mkDghgG2",
        "outputId": "406f0d88-68d1-4972-bf4f-51c3c2c719fa"
      },
      "execution_count": null,
      "outputs": [
        {
          "output_type": "stream",
          "name": "stdout",
          "text": [
            "1\n",
            "2\n",
            "3\n"
          ]
        }
      ]
    },
    {
      "cell_type": "code",
      "source": [
        "n=1\n",
        "while n>=1:\n",
        " print (n)\n",
        " n=n+1\n",
        " if n==100:\n",
        "   break"
      ],
      "metadata": {
        "colab": {
          "base_uri": "https://localhost:8080/"
        },
        "id": "Ijpv1YWqvoyr",
        "outputId": "2e3fbd97-b2aa-4891-8813-a7de5eb1c089"
      },
      "execution_count": null,
      "outputs": [
        {
          "output_type": "stream",
          "name": "stdout",
          "text": [
            "1\n",
            "2\n",
            "3\n",
            "4\n",
            "5\n",
            "6\n",
            "7\n",
            "8\n",
            "9\n",
            "10\n",
            "11\n",
            "12\n",
            "13\n",
            "14\n",
            "15\n",
            "16\n",
            "17\n",
            "18\n",
            "19\n",
            "20\n",
            "21\n",
            "22\n",
            "23\n",
            "24\n",
            "25\n",
            "26\n",
            "27\n",
            "28\n",
            "29\n",
            "30\n",
            "31\n",
            "32\n",
            "33\n",
            "34\n",
            "35\n",
            "36\n",
            "37\n",
            "38\n",
            "39\n",
            "40\n",
            "41\n",
            "42\n",
            "43\n",
            "44\n",
            "45\n",
            "46\n",
            "47\n",
            "48\n",
            "49\n",
            "50\n",
            "51\n",
            "52\n",
            "53\n",
            "54\n",
            "55\n",
            "56\n",
            "57\n",
            "58\n",
            "59\n",
            "60\n",
            "61\n",
            "62\n",
            "63\n",
            "64\n",
            "65\n",
            "66\n",
            "67\n",
            "68\n",
            "69\n",
            "70\n",
            "71\n",
            "72\n",
            "73\n",
            "74\n",
            "75\n",
            "76\n",
            "77\n",
            "78\n",
            "79\n",
            "80\n",
            "81\n",
            "82\n",
            "83\n",
            "84\n",
            "85\n",
            "86\n",
            "87\n",
            "88\n",
            "89\n",
            "90\n",
            "91\n",
            "92\n",
            "93\n",
            "94\n",
            "95\n",
            "96\n",
            "97\n",
            "98\n",
            "99\n"
          ]
        }
      ]
    },
    {
      "cell_type": "code",
      "source": [
        "n=int(input('enter the no'))\n",
        "while n!=0:\n",
        "  print(n)\n",
        "  n-=1"
      ],
      "metadata": {
        "id": "hhDGAPFBwkI2",
        "colab": {
          "base_uri": "https://localhost:8080/"
        },
        "outputId": "40030ec3-e8a9-4c34-a194-319bd5f4ba87"
      },
      "execution_count": null,
      "outputs": [
        {
          "output_type": "stream",
          "name": "stdout",
          "text": [
            "enter the no77\n",
            "77\n",
            "76\n",
            "75\n",
            "74\n",
            "73\n",
            "72\n",
            "71\n",
            "70\n",
            "69\n",
            "68\n",
            "67\n",
            "66\n",
            "65\n",
            "64\n",
            "63\n",
            "62\n",
            "61\n",
            "60\n",
            "59\n",
            "58\n",
            "57\n",
            "56\n",
            "55\n",
            "54\n",
            "53\n",
            "52\n",
            "51\n",
            "50\n",
            "49\n",
            "48\n",
            "47\n",
            "46\n",
            "45\n",
            "44\n",
            "43\n",
            "42\n",
            "41\n",
            "40\n",
            "39\n",
            "38\n",
            "37\n",
            "36\n",
            "35\n",
            "34\n",
            "33\n",
            "32\n",
            "31\n",
            "30\n",
            "29\n",
            "28\n",
            "27\n",
            "26\n",
            "25\n",
            "24\n",
            "23\n",
            "22\n",
            "21\n",
            "20\n",
            "19\n",
            "18\n",
            "17\n",
            "16\n",
            "15\n",
            "14\n",
            "13\n",
            "12\n",
            "11\n",
            "10\n",
            "9\n",
            "8\n",
            "7\n",
            "6\n",
            "5\n",
            "4\n",
            "3\n",
            "2\n",
            "1\n"
          ]
        }
      ]
    },
    {
      "cell_type": "code",
      "source": [
        "n=int(input ('enter the number '))\n",
        "if(n==0 or n<10):\n",
        "  print (\"value is either '0'or greater than '10'\")\n",
        "else:\n",
        "  while n>=15:\n",
        "   print (n)\n",
        "   n-=1"
      ],
      "metadata": {
        "colab": {
          "base_uri": "https://localhost:8080/"
        },
        "id": "tobJkadFzLRL",
        "outputId": "5a6786a8-b4df-4cd3-ee25-ab27485ba9da"
      },
      "execution_count": null,
      "outputs": [
        {
          "output_type": "stream",
          "name": "stdout",
          "text": [
            "enter the number 20\n",
            "20\n",
            "19\n",
            "18\n",
            "17\n",
            "16\n",
            "15\n"
          ]
        }
      ]
    },
    {
      "cell_type": "code",
      "source": [
        "x=int(input ('enter the value '))\n",
        "if (x<=10):\n",
        " print ('tea')\n",
        "else:\n",
        " while x<=20:\n",
        "  print('coffee')\n",
        "  x=x+1"
      ],
      "metadata": {
        "colab": {
          "base_uri": "https://localhost:8080/"
        },
        "id": "A9-VS9_h4WsK",
        "outputId": "7c2ca3b1-014a-4d3f-fe44-b4fa00661789"
      },
      "execution_count": null,
      "outputs": [
        {
          "output_type": "stream",
          "name": "stdout",
          "text": [
            "enter the value 17\n",
            "coffee\n",
            "coffee\n",
            "coffee\n",
            "coffee\n"
          ]
        }
      ]
    },
    {
      "cell_type": "code",
      "source": [
        "number=int(input('enter any no between 100 to 500'))\n",
        "while number<100 or number>500:\n",
        "  print ('incorrect number,enter correct number ')\n",
        "  number=int(input('enter no between 100 and 500'))\n",
        "else:\n",
        "  print ('given no is correct ',number)"
      ],
      "metadata": {
        "id": "YWyLrKk-90sW",
        "colab": {
          "base_uri": "https://localhost:8080/"
        },
        "outputId": "d7126a27-42c8-4070-ea4f-c116de73fd0e"
      },
      "execution_count": null,
      "outputs": [
        {
          "output_type": "stream",
          "name": "stdout",
          "text": [
            "enter any no between 100 to 5002000\n",
            "incorrect number,enter correct number \n",
            "enter no between 100 and 500400\n",
            "given no is correct  400\n"
          ]
        }
      ]
    },
    {
      "cell_type": "code",
      "source": [
        "for i in range(4500,4700,7):\n",
        "  print (i)\n",
        "  i=7"
      ],
      "metadata": {
        "id": "EBun-r3hCfj8",
        "colab": {
          "base_uri": "https://localhost:8080/"
        },
        "outputId": "339e9798-2d8a-477c-b12c-0c73e444fd22"
      },
      "execution_count": null,
      "outputs": [
        {
          "output_type": "stream",
          "name": "stdout",
          "text": [
            "4500\n",
            "4507\n",
            "4514\n",
            "4521\n",
            "4528\n",
            "4535\n",
            "4542\n",
            "4549\n",
            "4556\n",
            "4563\n",
            "4570\n",
            "4577\n",
            "4584\n",
            "4591\n",
            "4598\n",
            "4605\n",
            "4612\n",
            "4619\n",
            "4626\n",
            "4633\n",
            "4640\n",
            "4647\n",
            "4654\n",
            "4661\n",
            "4668\n",
            "4675\n",
            "4682\n",
            "4689\n",
            "4696\n"
          ]
        }
      ]
    },
    {
      "cell_type": "code",
      "source": [
        "\n",
        "for x in range (100,200):\n",
        "    if(x%3==0):\n",
        "       print (x)"
      ],
      "metadata": {
        "id": "w83A1_MPL1VX",
        "colab": {
          "base_uri": "https://localhost:8080/"
        },
        "outputId": "691b6109-0869-4063-a314-55fef4fa1787"
      },
      "execution_count": null,
      "outputs": [
        {
          "output_type": "stream",
          "name": "stdout",
          "text": [
            "102\n",
            "105\n",
            "108\n",
            "111\n",
            "114\n",
            "117\n",
            "120\n",
            "123\n",
            "126\n",
            "129\n",
            "132\n",
            "135\n",
            "138\n",
            "141\n",
            "144\n",
            "147\n",
            "150\n",
            "153\n",
            "156\n",
            "159\n",
            "162\n",
            "165\n",
            "168\n",
            "171\n",
            "174\n",
            "177\n",
            "180\n",
            "183\n",
            "186\n",
            "189\n",
            "192\n",
            "195\n",
            "198\n"
          ]
        }
      ]
    },
    {
      "cell_type": "code",
      "source": [
        "n=1\n",
        "while n<=10:\n",
        "  print (n,'*',5,'=',n*5)\n",
        "  n=n+1"
      ],
      "metadata": {
        "colab": {
          "base_uri": "https://localhost:8080/"
        },
        "id": "SrlFdqEPcbUv",
        "outputId": "5b4bbcca-af90-4d8d-f430-b9609e661267"
      },
      "execution_count": 1,
      "outputs": [
        {
          "output_type": "stream",
          "name": "stdout",
          "text": [
            "1 * 5 = 5\n",
            "2 * 5 = 10\n",
            "3 * 5 = 15\n",
            "4 * 5 = 20\n",
            "5 * 5 = 25\n",
            "6 * 5 = 30\n",
            "7 * 5 = 35\n",
            "8 * 5 = 40\n",
            "9 * 5 = 45\n",
            "10 * 5 = 50\n"
          ]
        }
      ]
    },
    {
      "cell_type": "code",
      "source": [
        "n=1\n",
        "for i in range(2,20,2):\n",
        " print (n,'*',2,'=',i)\n",
        " n=n+1"
      ],
      "metadata": {
        "colab": {
          "base_uri": "https://localhost:8080/"
        },
        "id": "EAcbHV3Igi_r",
        "outputId": "18faa5d8-747b-4d5d-e61c-d37fd8a9a55c"
      },
      "execution_count": null,
      "outputs": [
        {
          "output_type": "stream",
          "name": "stdout",
          "text": [
            "1 * 2 = 2\n",
            "2 * 2 = 4\n",
            "3 * 2 = 6\n",
            "4 * 2 = 8\n",
            "5 * 2 = 10\n",
            "6 * 2 = 12\n",
            "7 * 2 = 14\n",
            "8 * 2 = 16\n",
            "9 * 2 = 18\n"
          ]
        }
      ]
    },
    {
      "cell_type": "code",
      "source": [
        "n=int(input ('enter any no'))\n",
        "x=0\n",
        "for i in range (n+1):\n",
        "  x=x+i\n",
        "print (\"sum of all numbers from 1 to given number is:\",x)"
      ],
      "metadata": {
        "id": "qpEiIaxMTPgH",
        "colab": {
          "base_uri": "https://localhost:8080/"
        },
        "outputId": "dbde16a9-be22-447c-cf36-8322f86f8638"
      },
      "execution_count": 2,
      "outputs": [
        {
          "output_type": "stream",
          "name": "stdout",
          "text": [
            "enter any no44\n",
            "sum of all numbers from 1 to given number is: 990\n"
          ]
        }
      ]
    },
    {
      "cell_type": "code",
      "source": [
        "n=int(input (\"enter a no:\"))\n",
        "count=0\n",
        "while(n>0):\n",
        "  count=count+1\n",
        "  n=n//10\n",
        "print (\"the ....are:\", count)"
      ],
      "metadata": {
        "colab": {
          "base_uri": "https://localhost:8080/"
        },
        "id": "FtjjoxByg-SW",
        "outputId": "1c6ba136-eb43-4734-eec7-78e5f9256974"
      },
      "execution_count": null,
      "outputs": [
        {
          "output_type": "stream",
          "name": "stdout",
          "text": [
            "enter a no:12345\n",
            "the ....are: 5\n"
          ]
        }
      ]
    },
    {
      "cell_type": "code",
      "source": [
        "x=5439\n",
        "n=x//10\n",
        "print (n)"
      ],
      "metadata": {
        "colab": {
          "base_uri": "https://localhost:8080/"
        },
        "id": "RPV0aaFLn9Vm",
        "outputId": "817d45c5-c9af-42bb-ae8a-cc27b0489254"
      },
      "execution_count": null,
      "outputs": [
        {
          "output_type": "stream",
          "name": "stdout",
          "text": [
            "543\n"
          ]
        }
      ]
    },
    {
      "cell_type": "code",
      "source": [
        "n=int(input ('enter any no'))\n",
        "count=0\n",
        "while(n>0):\n",
        "  count=count+1\n",
        "  n=n//10\n",
        "print ('the no of digits are:', count)"
      ],
      "metadata": {
        "colab": {
          "base_uri": "https://localhost:8080/"
        },
        "id": "ti25VrlVoYu5",
        "outputId": "931fee44-0be0-488b-d3d2-d358fb18490d"
      },
      "execution_count": null,
      "outputs": [
        {
          "output_type": "stream",
          "name": "stdout",
          "text": [
            "enter any no12345\n",
            "the no of digits are: 5\n"
          ]
        }
      ]
    },
    {
      "cell_type": "code",
      "source": [
        "str=input ('enter a string:')\n",
        "vowels=0\n",
        "for i in str:\n",
        "  if(i=='a' or i=='e' or i=='i' or i=='o' or i=='u'):\n",
        "    vowels=vowels+1\n",
        "print ('no of vowels are:',vowels)"
      ],
      "metadata": {
        "id": "B7Gr9bdxtrfT",
        "colab": {
          "base_uri": "https://localhost:8080/"
        },
        "outputId": "89fcb880-6d1d-42cf-d664-877bd3610f74"
      },
      "execution_count": 4,
      "outputs": [
        {
          "output_type": "stream",
          "name": "stdout",
          "text": [
            "enter a string:purplecolour\n",
            "no of vowels are: 5\n"
          ]
        }
      ]
    }
  ]
}